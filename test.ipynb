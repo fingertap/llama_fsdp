{
 "cells": [
  {
   "cell_type": "code",
   "execution_count": 1,
   "metadata": {},
   "outputs": [],
   "source": [
    "import torch"
   ]
  },
  {
   "cell_type": "code",
   "execution_count": 2,
   "metadata": {},
   "outputs": [],
   "source": [
    "dim = 2048 // 8\n",
    "max_seq_len = 2048\n",
    "theta = 10000\n",
    "freqs = 1.0 / (theta ** (torch.arange(0, dim, 2)[: (dim // 2)].float() / dim))\n",
    "t = torch.arange(max_seq_len * 2, device=freqs.device, dtype=torch.float32)"
   ]
  },
  {
   "cell_type": "code",
   "execution_count": 2,
   "metadata": {},
   "outputs": [],
   "source": [
    "import torch\n",
    "mask = torch.full((1, 1, 1, 1), float(\"-inf\"))\n",
    "mask = mask.to(torch.float32).triu(diagonal=1)"
   ]
  },
  {
   "cell_type": "code",
   "execution_count": 4,
   "metadata": {},
   "outputs": [],
   "source": [
    "seqlen = 5\n",
    "x = torch.rand(3, 3).to('cuda:1').half()\n",
    "\n",
    "mask1 = torch.full(\n",
    "    (1, 1, seqlen, seqlen), float(\"-inf\"), device=x.device\n",
    ").to(torch.float32).triu(diagonal=1).type_as(x)\n",
    "mask2 = torch.full(\n",
    "    (1, 1, seqlen, seqlen), float(\"-inf\"), device=x.device, dtype=x.dtype\n",
    ").triu(diagonal=1)"
   ]
  },
  {
   "cell_type": "code",
   "execution_count": 12,
   "metadata": {},
   "outputs": [
    {
     "data": {
      "text/plain": [
       "tensor([-1.0000, -0.8391])"
      ]
     },
     "execution_count": 12,
     "metadata": {},
     "output_type": "execute_result"
    }
   ],
   "source": [
    "torch.tensor([3.14, 10.]).cos()"
   ]
  },
  {
   "cell_type": "code",
   "execution_count": 7,
   "metadata": {},
   "outputs": [
    {
     "ename": "RuntimeError",
     "evalue": "expected m1 and m2 to have the same dtype, but got: float != c10::Half",
     "output_type": "error",
     "traceback": [
      "\u001b[0;31m---------------------------------------------------------------------------\u001b[0m",
      "\u001b[0;31mRuntimeError\u001b[0m                              Traceback (most recent call last)",
      "Cell \u001b[0;32mIn[7], line 3\u001b[0m\n\u001b[1;32m      1\u001b[0m x \u001b[39m=\u001b[39m torch\u001b[39m.\u001b[39mrand(\u001b[39m3\u001b[39m, \u001b[39m2\u001b[39m)\n\u001b[1;32m      2\u001b[0m y \u001b[39m=\u001b[39m torch\u001b[39m.\u001b[39mrand(\u001b[39m2\u001b[39m, \u001b[39m3\u001b[39m)\u001b[39m.\u001b[39mhalf()\n\u001b[0;32m----> 3\u001b[0m torch\u001b[39m.\u001b[39;49mmatmul(x, y)\n",
      "\u001b[0;31mRuntimeError\u001b[0m: expected m1 and m2 to have the same dtype, but got: float != c10::Half"
     ]
    }
   ],
   "source": [
    "x = torch.rand(3, 2)\n",
    "y = torch.rand(2, 3).half()\n",
    "torch.matmul(x, y)"
   ]
  },
  {
   "cell_type": "code",
   "execution_count": 10,
   "metadata": {},
   "outputs": [
    {
     "data": {
      "text/plain": [
       "tensor([4.8828e-04, 4.8828e-12, 4.8828e-20,  ..., 0.0000e+00, 0.0000e+00,\n",
       "        0.0000e+00])"
      ]
     },
     "execution_count": 10,
     "metadata": {},
     "output_type": "execute_result"
    }
   ],
   "source": [
    "1 / theta ** torch.arange(0, dim, 2)[:(dim // 2)].float() / dim"
   ]
  }
 ],
 "metadata": {
  "kernelspec": {
   "display_name": "base",
   "language": "python",
   "name": "python3"
  },
  "language_info": {
   "codemirror_mode": {
    "name": "ipython",
    "version": 3
   },
   "file_extension": ".py",
   "mimetype": "text/x-python",
   "name": "python",
   "nbconvert_exporter": "python",
   "pygments_lexer": "ipython3",
   "version": "3.10.10"
  },
  "orig_nbformat": 4
 },
 "nbformat": 4,
 "nbformat_minor": 2
}
