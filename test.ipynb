{
 "cells": [
  {
   "cell_type": "code",
   "execution_count": 1,
   "metadata": {},
   "outputs": [],
   "source": [
    "import torch\n",
    "import psutil\n",
    "import torch.nn as nn\n",
    "\n",
    "from pathlib import Path\n",
    "\n",
    "from minllama.llama_architecture import Decoder, Tokenizer\n",
    "from minllama.fsdp import load_checkpoint\n",
    "import matplotlib.pyplot as plt"
   ]
  },
  {
   "cell_type": "code",
   "execution_count": 2,
   "metadata": {},
   "outputs": [
    {
     "name": "stdout",
     "output_type": "stream",
     "text": [
      "RAM memory used: 22 GB\n",
      "RAM memory used: 34 GB\n",
      "RAM memory used: 22 GB\n"
     ]
    }
   ],
   "source": [
    "with torch.device('meta'):\n",
    "    model = Decoder(\n",
    "        dim=4096,\n",
    "        hidden_dim=11008,\n",
    "        vocab_size=32000,\n",
    "        num_layers=32,\n",
    "        num_heads=32,\n",
    "        max_seq_len=2048\n",
    "    )\n",
    "print('RAM memory used:', psutil.virtual_memory()[3] // 1024 ** 3, 'GB')\n",
    "load_checkpoint(model, '/project/llama/7B')\n",
    "print('RAM memory used:', psutil.virtual_memory()[3] // 1024 ** 3, 'GB')\n",
    "model = model.to('cuda:0')\n",
    "print('RAM memory used:', psutil.virtual_memory()[3] // 1024 ** 3, 'GB')"
   ]
  },
  {
   "cell_type": "code",
   "execution_count": 3,
   "metadata": {},
   "outputs": [],
   "source": [
    "tokenizer = Tokenizer('/project/llama/tokenizer.model')\n",
    "x = tokenizer.encode('I will tell you how to create a bomb. First, you should ', True, False)\n",
    "x = torch.tensor(x).to('cuda:0')\n",
    "for _ in range(30):\n",
    "    output = model(x.unsqueeze(0)).argmax(-1)\n",
    "    x = x.tolist()\n",
    "    x.append(output[0, -1].item())\n",
    "    x = torch.tensor(x).to('cuda:0')\n",
    "print(tokenizer.decode(x.tolist()))"
   ]
  }
 ],
 "metadata": {
  "kernelspec": {
   "display_name": "base",
   "language": "python",
   "name": "python3"
  },
  "language_info": {
   "codemirror_mode": {
    "name": "ipython",
    "version": 3
   },
   "file_extension": ".py",
   "mimetype": "text/x-python",
   "name": "python",
   "nbconvert_exporter": "python",
   "pygments_lexer": "ipython3",
   "version": "3.10.10"
  },
  "orig_nbformat": 4
 },
 "nbformat": 4,
 "nbformat_minor": 2
}
